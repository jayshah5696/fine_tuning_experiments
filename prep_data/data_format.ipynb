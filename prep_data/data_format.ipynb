{
 "cells": [
  {
   "cell_type": "code",
   "execution_count": 2,
   "metadata": {},
   "outputs": [],
   "source": [
    "import pandas as pd\n",
    "import json\n",
    "import ast\n",
    "import os\n",
    "import warnings\n",
    "from tqdm import tqdm\n",
    "import glob\n",
    "\n",
    "warnings.filterwarnings('ignore')"
   ]
  },
  {
   "cell_type": "code",
   "execution_count": 6,
   "metadata": {},
   "outputs": [
    {
     "data": {
      "text/plain": [
       "['prepared_data_df/samvaad-hi-v1.csv',\n",
       " 'prepared_data_df/aya_guj_hindi.csv',\n",
       " 'prepared_data_df/aya_paraphrase_gujarati.csv',\n",
       " 'prepared_data_df/aya_indicsentiment_gujarati.csv',\n",
       " 'prepared_data_df/alpaca_gujarati)all.csv',\n",
       " 'prepared_data_df/df_alpaca_hindi_mix_input_output_format.csv']"
      ]
     },
     "execution_count": 6,
     "metadata": {},
     "output_type": "execute_result"
    }
   ],
   "source": [
    "output_location = \"prepared_data_df/\"\n",
    "files = glob.glob(f\"{output_location}*csv\")\n",
    "files"
   ]
  },
  {
   "cell_type": "code",
   "execution_count": 7,
   "metadata": {},
   "outputs": [],
   "source": [
    "df = pd.concat([pd.read_csv(file) for file in files])"
   ]
  },
  {
   "cell_type": "code",
   "execution_count": 8,
   "metadata": {},
   "outputs": [
    {
     "data": {
      "text/plain": [
       "(524222, 4)"
      ]
     },
     "execution_count": 8,
     "metadata": {},
     "output_type": "execute_result"
    }
   ],
   "source": [
    "df.shape"
   ]
  },
  {
   "cell_type": "code",
   "execution_count": 9,
   "metadata": {},
   "outputs": [
    {
     "data": {
      "text/html": [
       "<div>\n",
       "<style scoped>\n",
       "    .dataframe tbody tr th:only-of-type {\n",
       "        vertical-align: middle;\n",
       "    }\n",
       "\n",
       "    .dataframe tbody tr th {\n",
       "        vertical-align: top;\n",
       "    }\n",
       "\n",
       "    .dataframe thead th {\n",
       "        text-align: right;\n",
       "    }\n",
       "</style>\n",
       "<table border=\"1\" class=\"dataframe\">\n",
       "  <thead>\n",
       "    <tr style=\"text-align: right;\">\n",
       "      <th></th>\n",
       "      <th>input</th>\n",
       "      <th>output</th>\n",
       "      <th>conversation_id</th>\n",
       "      <th>language</th>\n",
       "    </tr>\n",
       "  </thead>\n",
       "  <tbody>\n",
       "    <tr>\n",
       "      <th>0</th>\n",
       "      <td>Can you tell me about the 1988 Rajya Sabha ele...</td>\n",
       "      <td>The 1988 Rajya Sabha elections were a signific...</td>\n",
       "      <td>0</td>\n",
       "      <td>hinglish</td>\n",
       "    </tr>\n",
       "    <tr>\n",
       "      <th>1</th>\n",
       "      <td>Was it a norm for members to serve for a term ...</td>\n",
       "      <td>Yes, the norm for the Rajya Sabha members was ...</td>\n",
       "      <td>0</td>\n",
       "      <td>hinglish</td>\n",
       "    </tr>\n",
       "    <tr>\n",
       "      <th>2</th>\n",
       "      <td>What is the purpose of the bye-elections?</td>\n",
       "      <td>By-elections, also known as special elections,...</td>\n",
       "      <td>0</td>\n",
       "      <td>hinglish</td>\n",
       "    </tr>\n",
       "    <tr>\n",
       "      <th>3</th>\n",
       "      <td>Can you tell me more about the movie 'Balekemp...</td>\n",
       "      <td>'Balekempa', जिसे 'The Bangle Seller' के नाम स...</td>\n",
       "      <td>1</td>\n",
       "      <td>hinglish</td>\n",
       "    </tr>\n",
       "    <tr>\n",
       "      <th>4</th>\n",
       "      <td>मुझे इस फिल्म के कुछ और विवरण चाहिए|</td>\n",
       "      <td>जैसे केम्पन्ना और सौभाग्या की शादीशुदा समस्याए...</td>\n",
       "      <td>1</td>\n",
       "      <td>hinglish</td>\n",
       "    </tr>\n",
       "  </tbody>\n",
       "</table>\n",
       "</div>"
      ],
      "text/plain": [
       "                                               input  \\\n",
       "0  Can you tell me about the 1988 Rajya Sabha ele...   \n",
       "1  Was it a norm for members to serve for a term ...   \n",
       "2          What is the purpose of the bye-elections?   \n",
       "3  Can you tell me more about the movie 'Balekemp...   \n",
       "4               मुझे इस फिल्म के कुछ और विवरण चाहिए|   \n",
       "\n",
       "                                              output conversation_id  language  \n",
       "0  The 1988 Rajya Sabha elections were a signific...               0  hinglish  \n",
       "1  Yes, the norm for the Rajya Sabha members was ...               0  hinglish  \n",
       "2  By-elections, also known as special elections,...               0  hinglish  \n",
       "3  'Balekempa', जिसे 'The Bangle Seller' के नाम स...               1  hinglish  \n",
       "4  जैसे केम्पन्ना और सौभाग्या की शादीशुदा समस्याए...               1  hinglish  "
      ]
     },
     "execution_count": 9,
     "metadata": {},
     "output_type": "execute_result"
    }
   ],
   "source": [
    "df.head()"
   ]
  },
  {
   "cell_type": "code",
   "execution_count": 14,
   "metadata": {},
   "outputs": [],
   "source": [
    "df['conversation_id'] = df['conversation_id'].astype(str)"
   ]
  },
  {
   "cell_type": "code",
   "execution_count": 15,
   "metadata": {},
   "outputs": [],
   "source": [
    "from datasets import Dataset"
   ]
  },
  {
   "cell_type": "code",
   "execution_count": null,
   "metadata": {},
   "outputs": [],
   "source": []
  },
  {
   "cell_type": "code",
   "execution_count": 16,
   "metadata": {},
   "outputs": [],
   "source": [
    "dataset = Dataset.from_pandas(df)"
   ]
  },
  {
   "cell_type": "code",
   "execution_count": 17,
   "metadata": {},
   "outputs": [
    {
     "name": "stderr",
     "output_type": "stream",
     "text": [
      "Creating parquet from Arrow format: 100%|██████████| 263/263 [00:00<00:00, 374.16ba/s]\n",
      "Creating parquet from Arrow format: 100%|██████████| 263/263 [00:00<00:00, 518.63ba/s]\n",
      "Uploading the dataset shards: 100%|██████████| 2/2 [24:01<00:00, 720.83s/it]\n",
      "README.md: 100%|██████████| 21.0/21.0 [00:00<00:00, 86.9kB/s]\n"
     ]
    }
   ],
   "source": [
    "dataset.push_to_hub(\"jayshah5696/indic_guj_hi_en_mix\")"
   ]
  },
  {
   "cell_type": "code",
   "execution_count": null,
   "metadata": {},
   "outputs": [],
   "source": []
  },
  {
   "cell_type": "code",
   "execution_count": null,
   "metadata": {},
   "outputs": [],
   "source": []
  },
  {
   "cell_type": "code",
   "execution_count": null,
   "metadata": {},
   "outputs": [],
   "source": []
  }
 ],
 "metadata": {
  "kernelspec": {
   "display_name": "hf",
   "language": "python",
   "name": "python3"
  },
  "language_info": {
   "codemirror_mode": {
    "name": "ipython",
    "version": 3
   },
   "file_extension": ".py",
   "mimetype": "text/x-python",
   "name": "python",
   "nbconvert_exporter": "python",
   "pygments_lexer": "ipython3",
   "version": "3.10.13"
  }
 },
 "nbformat": 4,
 "nbformat_minor": 2
}
