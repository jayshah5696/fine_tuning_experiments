{
 "cells": [
  {
   "cell_type": "code",
   "execution_count": 1,
   "metadata": {},
   "outputs": [],
   "source": [
    "#preparing data and mixing data\n",
    "# hindi alpaca\n",
    "# samvaad sarvam ai \n",
    "# gujarati all\n",
    "# aya\n",
    "# goal is to mix and prepare dataset for gujarati and hindi combined\n",
    "# ideal data format is input and output\n"
   ]
  },
  {
   "cell_type": "code",
   "execution_count": 56,
   "metadata": {},
   "outputs": [],
   "source": [
    "import pandas as pd\n",
    "import json\n",
    "import ast\n",
    "import os\n",
    "import warnings\n",
    "from tqdm import tqdm\n",
    "warnings.filterwarnings('ignore')"
   ]
  },
  {
   "cell_type": "code",
   "execution_count": 15,
   "metadata": {},
   "outputs": [],
   "source": [
    "output_location = \"prepared_data_df/\"\n",
    "if not os.path.exists(output_location):\n",
    "    os.makedirs(output_location)"
   ]
  },
  {
   "cell_type": "code",
   "execution_count": 3,
   "metadata": {},
   "outputs": [
    {
     "name": "stderr",
     "output_type": "stream",
     "text": [
      "/Users/jshah/anaconda3/envs/hf/lib/python3.10/site-packages/tqdm/auto.py:21: TqdmWarning: IProgress not found. Please update jupyter and ipywidgets. See https://ipywidgets.readthedocs.io/en/stable/user_install.html\n",
      "  from .autonotebook import tqdm as notebook_tqdm\n",
      "Downloading readme: 100%|██████████| 30.0/30.0 [00:00<00:00, 72.1kB/s]\n",
      "Downloading data: 100%|██████████| 247/247 [00:00<00:00, 2.47kB/s]\n",
      "Downloading data files: 100%|██████████| 1/1 [00:00<00:00,  4.53it/s]\n",
      "Extracting data files: 100%|██████████| 1/1 [00:00<00:00, 627.70it/s]\n",
      "Generating train split: 1 examples [00:00, 231.54 examples/s]\n"
     ]
    }
   ],
   "source": [
    "from datasets import load_from_disk, load_dataset\n",
    "dataset_name = \"jayshah5696/alpaca-hindi\"\n",
    "dataset = load_dataset(dataset_name)"
   ]
  },
  {
   "cell_type": "code",
   "execution_count": 7,
   "metadata": {},
   "outputs": [
    {
     "data": {
      "text/plain": [
       "Dataset({\n",
       "    features: ['_data_files', '_fingerprint', '_format_columns', '_format_kwargs', '_format_type', '_output_all_columns', '_split'],\n",
       "    num_rows: 1\n",
       "})"
      ]
     },
     "execution_count": 7,
     "metadata": {},
     "output_type": "execute_result"
    }
   ],
   "source": [
    "dataset['train']"
   ]
  },
  {
   "cell_type": "code",
   "execution_count": 9,
   "metadata": {},
   "outputs": [],
   "source": [
    "df = pd.read_csv('/Users/jshah/Documents/GitHub/notebooks/Transformers/data/alpaca-hindi/df_modified.csv')\n"
   ]
  },
  {
   "cell_type": "code",
   "execution_count": 11,
   "metadata": {},
   "outputs": [
    {
     "data": {
      "text/html": [
       "<div>\n",
       "<style scoped>\n",
       "    .dataframe tbody tr th:only-of-type {\n",
       "        vertical-align: middle;\n",
       "    }\n",
       "\n",
       "    .dataframe tbody tr th {\n",
       "        vertical-align: top;\n",
       "    }\n",
       "\n",
       "    .dataframe thead th {\n",
       "        text-align: right;\n",
       "    }\n",
       "</style>\n",
       "<table border=\"1\" class=\"dataframe\">\n",
       "  <thead>\n",
       "    <tr style=\"text-align: right;\">\n",
       "      <th></th>\n",
       "      <th>instruction</th>\n",
       "      <th>input</th>\n",
       "      <th>output</th>\n",
       "      <th>text</th>\n",
       "      <th>hindi_instruction</th>\n",
       "      <th>hindi_input</th>\n",
       "      <th>hindi_output</th>\n",
       "      <th>hindi_text</th>\n",
       "    </tr>\n",
       "  </thead>\n",
       "  <tbody>\n",
       "    <tr>\n",
       "      <th>0</th>\n",
       "      <td>Give three tips for staying healthy.</td>\n",
       "      <td>NaN</td>\n",
       "      <td>1.Eat a balanced diet and make sure to include...</td>\n",
       "      <td>Below is an instruction that describes a task....</td>\n",
       "      <td>स्वस्थ रहने के लिए तीन सुझाव दें।.</td>\n",
       "      <td>NaN</td>\n",
       "      <td>1. एक संतुलित आहार खाएं और बहुत सारे फलों और स...</td>\n",
       "      <td>नीचे एक निर्देश है जो एक कार्य का वर्णन करता ह...</td>\n",
       "    </tr>\n",
       "    <tr>\n",
       "      <th>1</th>\n",
       "      <td>What are the three primary colors?</td>\n",
       "      <td>NaN</td>\n",
       "      <td>The three primary colors are red, blue, and ye...</td>\n",
       "      <td>Below is an instruction that describes a task....</td>\n",
       "      <td>तीन प्राथमिक रंग क्या हैं?</td>\n",
       "      <td>NaN</td>\n",
       "      <td>तीन प्राथमिक रंग लाल, नीले और पीले हैं।.</td>\n",
       "      <td>नीचे एक निर्देश है जो एक कार्य का वर्णन करता ह...</td>\n",
       "    </tr>\n",
       "    <tr>\n",
       "      <th>2</th>\n",
       "      <td>Describe the structure of an atom.</td>\n",
       "      <td>NaN</td>\n",
       "      <td>An atom is made up of a nucleus, which contain...</td>\n",
       "      <td>Below is an instruction that describes a task....</td>\n",
       "      <td>एक परमाणु की संरचना का वर्णन करें।.</td>\n",
       "      <td>NaN</td>\n",
       "      <td>एक परमाणु एक नाभिक से बना है, जिसमें प्रोटॉन औ...</td>\n",
       "      <td>नीचे एक निर्देश है जो एक कार्य का वर्णन करता ह...</td>\n",
       "    </tr>\n",
       "    <tr>\n",
       "      <th>3</th>\n",
       "      <td>How can we reduce air pollution?</td>\n",
       "      <td>NaN</td>\n",
       "      <td>There are a number of ways to reduce air pollu...</td>\n",
       "      <td>Below is an instruction that describes a task....</td>\n",
       "      <td>हम वायु प्रदूषण को कैसे कम कर सकते हैं?</td>\n",
       "      <td>NaN</td>\n",
       "      <td>वायु प्रदूषण को कम करने के कई तरीके हैं, जैसे ...</td>\n",
       "      <td>नीचे एक निर्देश है जो एक कार्य का वर्णन करता ह...</td>\n",
       "    </tr>\n",
       "    <tr>\n",
       "      <th>4</th>\n",
       "      <td>Describe a time when you had to make a difficu...</td>\n",
       "      <td>NaN</td>\n",
       "      <td>I had to make a difficult decision when I was ...</td>\n",
       "      <td>Below is an instruction that describes a task....</td>\n",
       "      <td>जब आप एक कठिन निर्णय करना चाहते थे तब एक समय क...</td>\n",
       "      <td>NaN</td>\n",
       "      <td>जब मैं एक निर्माण कंपनी में एक परियोजना प्रबंध...</td>\n",
       "      <td>नीचे एक निर्देश है जो एक कार्य का वर्णन करता ह...</td>\n",
       "    </tr>\n",
       "  </tbody>\n",
       "</table>\n",
       "</div>"
      ],
      "text/plain": [
       "                                         instruction input  \\\n",
       "0               Give three tips for staying healthy.   NaN   \n",
       "1                 What are the three primary colors?   NaN   \n",
       "2                 Describe the structure of an atom.   NaN   \n",
       "3                   How can we reduce air pollution?   NaN   \n",
       "4  Describe a time when you had to make a difficu...   NaN   \n",
       "\n",
       "                                              output  \\\n",
       "0  1.Eat a balanced diet and make sure to include...   \n",
       "1  The three primary colors are red, blue, and ye...   \n",
       "2  An atom is made up of a nucleus, which contain...   \n",
       "3  There are a number of ways to reduce air pollu...   \n",
       "4  I had to make a difficult decision when I was ...   \n",
       "\n",
       "                                                text  \\\n",
       "0  Below is an instruction that describes a task....   \n",
       "1  Below is an instruction that describes a task....   \n",
       "2  Below is an instruction that describes a task....   \n",
       "3  Below is an instruction that describes a task....   \n",
       "4  Below is an instruction that describes a task....   \n",
       "\n",
       "                                   hindi_instruction hindi_input  \\\n",
       "0                 स्वस्थ रहने के लिए तीन सुझाव दें।.         NaN   \n",
       "1                         तीन प्राथमिक रंग क्या हैं?         NaN   \n",
       "2                एक परमाणु की संरचना का वर्णन करें।.         NaN   \n",
       "3            हम वायु प्रदूषण को कैसे कम कर सकते हैं?         NaN   \n",
       "4  जब आप एक कठिन निर्णय करना चाहते थे तब एक समय क...         NaN   \n",
       "\n",
       "                                        hindi_output  \\\n",
       "0  1. एक संतुलित आहार खाएं और बहुत सारे फलों और स...   \n",
       "1           तीन प्राथमिक रंग लाल, नीले और पीले हैं।.   \n",
       "2  एक परमाणु एक नाभिक से बना है, जिसमें प्रोटॉन औ...   \n",
       "3  वायु प्रदूषण को कम करने के कई तरीके हैं, जैसे ...   \n",
       "4  जब मैं एक निर्माण कंपनी में एक परियोजना प्रबंध...   \n",
       "\n",
       "                                          hindi_text  \n",
       "0  नीचे एक निर्देश है जो एक कार्य का वर्णन करता ह...  \n",
       "1  नीचे एक निर्देश है जो एक कार्य का वर्णन करता ह...  \n",
       "2  नीचे एक निर्देश है जो एक कार्य का वर्णन करता ह...  \n",
       "3  नीचे एक निर्देश है जो एक कार्य का वर्णन करता ह...  \n",
       "4  नीचे एक निर्देश है जो एक कार्य का वर्णन करता ह...  "
      ]
     },
     "execution_count": 11,
     "metadata": {},
     "output_type": "execute_result"
    }
   ],
   "source": [
    "df.head()"
   ]
  },
  {
   "cell_type": "code",
   "execution_count": 35,
   "metadata": {},
   "outputs": [],
   "source": [
    "hi_columns = [col for col in df.columns if \"hindi\" in col]\n",
    "df_hindi = df[hi_columns]\n",
    "en_columns = [col for col in df.columns if \"hindi\" not in col]\n",
    "df_en = df[en_columns]\n",
    "df_hindi['input'] = df_hindi.apply(lambda x: x['hindi_instruction'] if pd.isna(x['hindi_input']) else x['hindi_instruction']+'\\n'+x['hindi_input'],axis=1)\n",
    "df_hindi['output']=df_hindi['hindi_output']\n",
    "df_hindi['language']='hindi'\n",
    "df_en['input'] = df_en.apply(lambda x: x['instruction'] if pd.isna(x['input']) else x['instruction']+'\\n'+x['input'],axis=1)\n",
    "df_en['language']='english'\n",
    "req_cols = ['input','output',\"language\"]\n",
    "df_alpaca_hindi_mix_input_output_format = pd.concat([df_en[req_cols],df_hindi[req_cols]],ignore_index=True)"
   ]
  },
  {
   "cell_type": "code",
   "execution_count": 36,
   "metadata": {},
   "outputs": [],
   "source": [
    "df_alpaca_hindi_mix_input_output_format = df_alpaca_hindi_mix_input_output_format.sample(frac=1,random_state=42).reset_index(drop=True)\n",
    "df_alpaca_hindi_mix_input_output_format.to_csv(f'{output_location}df_alpaca_hindi_mix_input_output_format.csv',index=None)"
   ]
  },
  {
   "cell_type": "code",
   "execution_count": 38,
   "metadata": {},
   "outputs": [],
   "source": [
    "# openhathi dataset\n",
    "dataset = load_dataset(\"sarvamai/samvaad-hi-v1\")"
   ]
  },
  {
   "cell_type": "code",
   "execution_count": 63,
   "metadata": {},
   "outputs": [
    {
     "data": {
      "text/html": [
       "<div>\n",
       "<style scoped>\n",
       "    .dataframe tbody tr th:only-of-type {\n",
       "        vertical-align: middle;\n",
       "    }\n",
       "\n",
       "    .dataframe tbody tr th {\n",
       "        vertical-align: top;\n",
       "    }\n",
       "\n",
       "    .dataframe thead th {\n",
       "        text-align: right;\n",
       "    }\n",
       "</style>\n",
       "<table border=\"1\" class=\"dataframe\">\n",
       "  <thead>\n",
       "    <tr style=\"text-align: right;\">\n",
       "      <th></th>\n",
       "      <th>messages</th>\n",
       "    </tr>\n",
       "  </thead>\n",
       "  <tbody>\n",
       "    <tr>\n",
       "      <th>0</th>\n",
       "      <td>[{'content': 'Can you tell me about the 1988 R...</td>\n",
       "    </tr>\n",
       "    <tr>\n",
       "      <th>1</th>\n",
       "      <td>[{'content': 'Can you tell me more about the m...</td>\n",
       "    </tr>\n",
       "    <tr>\n",
       "      <th>2</th>\n",
       "      <td>[{'content': 'Mujhe Lavasa ke baare mein jaank...</td>\n",
       "    </tr>\n",
       "    <tr>\n",
       "      <th>3</th>\n",
       "      <td>[{'content': 'वैश्वीकरण भारत में स्वदेशी संस्क...</td>\n",
       "    </tr>\n",
       "    <tr>\n",
       "      <th>4</th>\n",
       "      <td>[{'content': 'Could you please tell me in Hind...</td>\n",
       "    </tr>\n",
       "  </tbody>\n",
       "</table>\n",
       "</div>"
      ],
      "text/plain": [
       "                                            messages\n",
       "0  [{'content': 'Can you tell me about the 1988 R...\n",
       "1  [{'content': 'Can you tell me more about the m...\n",
       "2  [{'content': 'Mujhe Lavasa ke baare mein jaank...\n",
       "3  [{'content': 'वैश्वीकरण भारत में स्वदेशी संस्क...\n",
       "4  [{'content': 'Could you please tell me in Hind..."
      ]
     },
     "execution_count": 63,
     "metadata": {},
     "output_type": "execute_result"
    }
   ],
   "source": [
    "df = dataset['train'].to_pandas()\n",
    "df.head()\n",
    "# df.to_csv(\"sarvam_ai.csv\",index=None)\n",
    "# df = pd.read_csv('sarvam_ai.csv')"
   ]
  },
  {
   "cell_type": "code",
   "execution_count": 65,
   "metadata": {},
   "outputs": [],
   "source": [
    "# df['text'] = df['messages'].apply(ast.literal_eval)\n",
    "# df.head()"
   ]
  },
  {
   "cell_type": "code",
   "execution_count": 50,
   "metadata": {},
   "outputs": [
    {
     "data": {
      "text/plain": [
       "6"
      ]
     },
     "execution_count": 50,
     "metadata": {},
     "output_type": "execute_result"
    }
   ],
   "source": [
    "len(df['messages'].iloc[20])"
   ]
  },
  {
   "cell_type": "code",
   "execution_count": 66,
   "metadata": {},
   "outputs": [],
   "source": [
    "\n",
    "\n",
    "def convert_json_to_gemma_instruct_format(json_data):\n",
    "    text_format = \"\"\n",
    "    for data in json_data:\n",
    "        role = 'model' if data['role'] == 'assistant' else 'user'\n",
    "        text_format += f\"<start_of_turn>{role}\\n{data['content']} <end_of_turn>model\\n\"\n",
    "    return text_format\n",
    "\n",
    "def convert_to_io_format(data):\n",
    "    # Initialize a list to hold the input-output pairs\n",
    "    io_pairs = []\n",
    "    \n",
    "    # Iterate through the provided data\n",
    "    for i in range(0, len(data), 2):\n",
    "        # Assuming the data alternates between user query and assistant answer,\n",
    "        # add the pair to the io_pairs list.\n",
    "        if data[i]['role'] == 'user' and i+1 < len(data) and data[i+1]['role'] == 'assistant':\n",
    "            input_text = data[i]['content']\n",
    "            output_text = data[i+1]['content']\n",
    "            io_pairs.append((input_text, output_text))\n",
    "    \n",
    "    return io_pairs\n",
    "\n",
    "def process_row(row, index):\n",
    "    # Convert the row with the provided function\n",
    "    io_pairs = convert_to_io_format(row.tolist())\n",
    "    # Create a temporary DataFrame from the io_pairs\n",
    "    temp_df = pd.DataFrame(io_pairs, columns=['input', 'output'])\n",
    "    # Assign the index (which acts as the ID here)\n",
    "    temp_df['id'] = index\n",
    "    return temp_df\n",
    "    "
   ]
  },
  {
   "cell_type": "code",
   "execution_count": 69,
   "metadata": {},
   "outputs": [
    {
     "name": "stderr",
     "output_type": "stream",
     "text": [
      "100%|██████████| 101476/101476 [00:12<00:00, 8298.24it/s]\n"
     ]
    }
   ],
   "source": [
    "# Initialize an empty list to collect DataFrame pieces\n",
    "data_pieces = []\n",
    "\n",
    "# Use tqdm to show progress over the DataFrame's index and rows\n",
    "for i in tqdm(df.index):\n",
    "    row = df.loc[i]\n",
    "    data_piece = process_row(row['messages'], i)\n",
    "    data_pieces.append(data_piece)\n",
    "\n",
    "# Concatenate all DataFrame pieces into one DataFrame\n",
    "output_data = pd.concat(data_pieces, ignore_index=True)"
   ]
  },
  {
   "cell_type": "code",
   "execution_count": 74,
   "metadata": {},
   "outputs": [],
   "source": [
    "output_data= output_data.rename(columns={'id':'conversation_id'})\n",
    "output_data['language']='hinglish'\n",
    "output_data.head()\n",
    "output_data.to_csv(f'{output_location}samvaad-hi-v1.csv',index=None)\n"
   ]
  },
  {
   "cell_type": "code",
   "execution_count": 101,
   "metadata": {},
   "outputs": [],
   "source": [
    "# output_data"
   ]
  },
  {
   "cell_type": "code",
   "execution_count": 75,
   "metadata": {},
   "outputs": [
    {
     "name": "stderr",
     "output_type": "stream",
     "text": [
      "Downloading readme: 100%|██████████| 30.0/30.0 [00:00<00:00, 203kB/s]\n",
      "Downloading data: 100%|██████████| 149M/149M [00:20<00:00, 7.15MB/s]\n",
      "Downloading data files: 100%|██████████| 1/1 [00:20<00:00, 20.96s/it]\n",
      "Extracting data files: 100%|██████████| 1/1 [00:00<00:00, 504.30it/s]\n",
      "Generating train split: 51963 examples [00:01, 39844.01 examples/s]\n"
     ]
    }
   ],
   "source": [
    "#gujarati all\n",
    "dataset = load_dataset(\"jayshah5696/alpaca-gujarati-full\")"
   ]
  },
  {
   "cell_type": "code",
   "execution_count": 81,
   "metadata": {},
   "outputs": [
    {
     "data": {
      "text/plain": [
       "(51963, 6)"
      ]
     },
     "execution_count": 81,
     "metadata": {},
     "output_type": "execute_result"
    }
   ],
   "source": [
    "df = dataset['train'].to_pandas()\n",
    "df.shape"
   ]
  },
  {
   "cell_type": "code",
   "execution_count": 82,
   "metadata": {},
   "outputs": [
    {
     "data": {
      "text/html": [
       "<div>\n",
       "<style scoped>\n",
       "    .dataframe tbody tr th:only-of-type {\n",
       "        vertical-align: middle;\n",
       "    }\n",
       "\n",
       "    .dataframe tbody tr th {\n",
       "        vertical-align: top;\n",
       "    }\n",
       "\n",
       "    .dataframe thead th {\n",
       "        text-align: right;\n",
       "    }\n",
       "</style>\n",
       "<table border=\"1\" class=\"dataframe\">\n",
       "  <thead>\n",
       "    <tr style=\"text-align: right;\">\n",
       "      <th></th>\n",
       "      <th>instruction</th>\n",
       "      <th>input</th>\n",
       "      <th>output</th>\n",
       "      <th>text</th>\n",
       "      <th>system_prompt</th>\n",
       "      <th>text_chat</th>\n",
       "    </tr>\n",
       "  </thead>\n",
       "  <tbody>\n",
       "    <tr>\n",
       "      <th>0</th>\n",
       "      <td>મૂળ શબ્દોનો ઉપયોગ કરીને નીચેના વાક્યને ફરીથી લખો.</td>\n",
       "      <td>મારી તબીયત સારી લાગતી નથી.</td>\n",
       "      <td>મને સારું નથી લાગતું.</td>\n",
       "      <td>નીચે એક સૂચના છે જે કાર્યનું વર્ણન કરે છે, ઇનપ...</td>\n",
       "      <td>નીચે એક સૂચના છે જે કાર્યનું વર્ણન કરે છે, ઇનપ...</td>\n",
       "      <td>&lt;s&gt;[INST]&lt;&lt;SYS&gt;&gt;\\n        નીચે એક સૂચના છે જે ...</td>\n",
       "    </tr>\n",
       "    <tr>\n",
       "      <th>1</th>\n",
       "      <td>બે વાક્યોને એક વાક્યમાં જોડો.</td>\n",
       "      <td>તે પાર્ટીમાં ગયો ન હતો.</td>\n",
       "      <td>તે પાર્ટીમાં ગયો ન હતો, તેના બદલે ઘરે જ રહ્યો ...</td>\n",
       "      <td>નીચે એક સૂચના છે જે કાર્યનું વર્ણન કરે છે, ઇનપ...</td>\n",
       "      <td>નીચે એક સૂચના છે જે કાર્યનું વર્ણન કરે છે, ઇનપ...</td>\n",
       "      <td>&lt;s&gt;[INST]&lt;&lt;SYS&gt;&gt;\\n        નીચે એક સૂચના છે જે ...</td>\n",
       "    </tr>\n",
       "    <tr>\n",
       "      <th>2</th>\n",
       "      <td>નીચેના વાક્યને બે અલગ-અલગ વાક્યોમાં વિભાજિત કરો.</td>\n",
       "      <td>તેણે હેલો કહ્યું અને વિદાય લીધી.</td>\n",
       "      <td>તેણે હેલો કહ્યું.</td>\n",
       "      <td>નીચે એક સૂચના છે જે કાર્યનું વર્ણન કરે છે, ઇનપ...</td>\n",
       "      <td>નીચે એક સૂચના છે જે કાર્યનું વર્ણન કરે છે, ઇનપ...</td>\n",
       "      <td>&lt;s&gt;[INST]&lt;&lt;SYS&gt;&gt;\\n        નીચે એક સૂચના છે જે ...</td>\n",
       "    </tr>\n",
       "    <tr>\n",
       "      <th>3</th>\n",
       "      <td>નીચેના વાક્યને હકારાત્મક, નકારાત્મક અથવા તટસ્થ...</td>\n",
       "      <td>હું કાલે સ્ટોર પર જાઉં છું.</td>\n",
       "      <td>હકારાત્મક.</td>\n",
       "      <td>નીચે એક સૂચના છે જે કાર્યનું વર્ણન કરે છે, ઇનપ...</td>\n",
       "      <td>નીચે એક સૂચના છે જે કાર્યનું વર્ણન કરે છે, ઇનપ...</td>\n",
       "      <td>&lt;s&gt;[INST]&lt;&lt;SYS&gt;&gt;\\n        નીચે એક સૂચના છે જે ...</td>\n",
       "    </tr>\n",
       "    <tr>\n",
       "      <th>4</th>\n",
       "      <td>વાક્યમાં કયો શબ્દ સૌથી વધુ વજન ધરાવે છે તે શોધો.</td>\n",
       "      <td>તેણે ડિનર માટે ચાઈનીઝ ફૂડનો ઓર્ડર આપ્યો.</td>\n",
       "      <td>રાત્રિભોજન.</td>\n",
       "      <td>નીચે એક સૂચના છે જે કાર્યનું વર્ણન કરે છે, ઇનપ...</td>\n",
       "      <td>નીચે એક સૂચના છે જે કાર્યનું વર્ણન કરે છે, ઇનપ...</td>\n",
       "      <td>&lt;s&gt;[INST]&lt;&lt;SYS&gt;&gt;\\n        નીચે એક સૂચના છે જે ...</td>\n",
       "    </tr>\n",
       "  </tbody>\n",
       "</table>\n",
       "</div>"
      ],
      "text/plain": [
       "                                         instruction  \\\n",
       "0  મૂળ શબ્દોનો ઉપયોગ કરીને નીચેના વાક્યને ફરીથી લખો.   \n",
       "1                      બે વાક્યોને એક વાક્યમાં જોડો.   \n",
       "2   નીચેના વાક્યને બે અલગ-અલગ વાક્યોમાં વિભાજિત કરો.   \n",
       "3  નીચેના વાક્યને હકારાત્મક, નકારાત્મક અથવા તટસ્થ...   \n",
       "4   વાક્યમાં કયો શબ્દ સૌથી વધુ વજન ધરાવે છે તે શોધો.   \n",
       "\n",
       "                                      input  \\\n",
       "0                મારી તબીયત સારી લાગતી નથી.   \n",
       "1                  તે પાર્ટીમાં ગયો ન હતો.    \n",
       "2          તેણે હેલો કહ્યું અને વિદાય લીધી.   \n",
       "3               હું કાલે સ્ટોર પર જાઉં છું.   \n",
       "4  તેણે ડિનર માટે ચાઈનીઝ ફૂડનો ઓર્ડર આપ્યો.   \n",
       "\n",
       "                                              output  \\\n",
       "0                              મને સારું નથી લાગતું.   \n",
       "1  તે પાર્ટીમાં ગયો ન હતો, તેના બદલે ઘરે જ રહ્યો ...   \n",
       "2                                 તેણે હેલો કહ્યું.    \n",
       "3                                         હકારાત્મક.   \n",
       "4                                        રાત્રિભોજન.   \n",
       "\n",
       "                                                text  \\\n",
       "0  નીચે એક સૂચના છે જે કાર્યનું વર્ણન કરે છે, ઇનપ...   \n",
       "1  નીચે એક સૂચના છે જે કાર્યનું વર્ણન કરે છે, ઇનપ...   \n",
       "2  નીચે એક સૂચના છે જે કાર્યનું વર્ણન કરે છે, ઇનપ...   \n",
       "3  નીચે એક સૂચના છે જે કાર્યનું વર્ણન કરે છે, ઇનપ...   \n",
       "4  નીચે એક સૂચના છે જે કાર્યનું વર્ણન કરે છે, ઇનપ...   \n",
       "\n",
       "                                       system_prompt  \\\n",
       "0  નીચે એક સૂચના છે જે કાર્યનું વર્ણન કરે છે, ઇનપ...   \n",
       "1  નીચે એક સૂચના છે જે કાર્યનું વર્ણન કરે છે, ઇનપ...   \n",
       "2  નીચે એક સૂચના છે જે કાર્યનું વર્ણન કરે છે, ઇનપ...   \n",
       "3  નીચે એક સૂચના છે જે કાર્યનું વર્ણન કરે છે, ઇનપ...   \n",
       "4  નીચે એક સૂચના છે જે કાર્યનું વર્ણન કરે છે, ઇનપ...   \n",
       "\n",
       "                                           text_chat  \n",
       "0  <s>[INST]<<SYS>>\\n        નીચે એક સૂચના છે જે ...  \n",
       "1  <s>[INST]<<SYS>>\\n        નીચે એક સૂચના છે જે ...  \n",
       "2  <s>[INST]<<SYS>>\\n        નીચે એક સૂચના છે જે ...  \n",
       "3  <s>[INST]<<SYS>>\\n        નીચે એક સૂચના છે જે ...  \n",
       "4  <s>[INST]<<SYS>>\\n        નીચે એક સૂચના છે જે ...  "
      ]
     },
     "execution_count": 82,
     "metadata": {},
     "output_type": "execute_result"
    }
   ],
   "source": [
    "df.head()"
   ]
  },
  {
   "cell_type": "code",
   "execution_count": 83,
   "metadata": {},
   "outputs": [
    {
     "name": "stdout",
     "output_type": "stream",
     "text": [
      "['input', 'output', 'language']\n"
     ]
    }
   ],
   "source": [
    "df['input'] = df.apply(lambda x: x['instruction'] if pd.isna(x['input']) else x['instruction']+'\\n'+x['input'],axis=1)\n",
    "df['language']='gujarati'\n",
    "print(req_cols)\n",
    "df = df[req_cols]"
   ]
  },
  {
   "cell_type": "code",
   "execution_count": 84,
   "metadata": {},
   "outputs": [
    {
     "data": {
      "text/html": [
       "<div>\n",
       "<style scoped>\n",
       "    .dataframe tbody tr th:only-of-type {\n",
       "        vertical-align: middle;\n",
       "    }\n",
       "\n",
       "    .dataframe tbody tr th {\n",
       "        vertical-align: top;\n",
       "    }\n",
       "\n",
       "    .dataframe thead th {\n",
       "        text-align: right;\n",
       "    }\n",
       "</style>\n",
       "<table border=\"1\" class=\"dataframe\">\n",
       "  <thead>\n",
       "    <tr style=\"text-align: right;\">\n",
       "      <th></th>\n",
       "      <th>input</th>\n",
       "      <th>output</th>\n",
       "      <th>language</th>\n",
       "    </tr>\n",
       "  </thead>\n",
       "  <tbody>\n",
       "    <tr>\n",
       "      <th>0</th>\n",
       "      <td>મૂળ શબ્દોનો ઉપયોગ કરીને નીચેના વાક્યને ફરીથી લ...</td>\n",
       "      <td>મને સારું નથી લાગતું.</td>\n",
       "      <td>gujarati</td>\n",
       "    </tr>\n",
       "    <tr>\n",
       "      <th>1</th>\n",
       "      <td>બે વાક્યોને એક વાક્યમાં જોડો.\\nતે પાર્ટીમાં ગય...</td>\n",
       "      <td>તે પાર્ટીમાં ગયો ન હતો, તેના બદલે ઘરે જ રહ્યો ...</td>\n",
       "      <td>gujarati</td>\n",
       "    </tr>\n",
       "    <tr>\n",
       "      <th>2</th>\n",
       "      <td>નીચેના વાક્યને બે અલગ-અલગ વાક્યોમાં વિભાજિત કર...</td>\n",
       "      <td>તેણે હેલો કહ્યું.</td>\n",
       "      <td>gujarati</td>\n",
       "    </tr>\n",
       "    <tr>\n",
       "      <th>3</th>\n",
       "      <td>નીચેના વાક્યને હકારાત્મક, નકારાત્મક અથવા તટસ્થ...</td>\n",
       "      <td>હકારાત્મક.</td>\n",
       "      <td>gujarati</td>\n",
       "    </tr>\n",
       "    <tr>\n",
       "      <th>4</th>\n",
       "      <td>વાક્યમાં કયો શબ્દ સૌથી વધુ વજન ધરાવે છે તે શોધ...</td>\n",
       "      <td>રાત્રિભોજન.</td>\n",
       "      <td>gujarati</td>\n",
       "    </tr>\n",
       "  </tbody>\n",
       "</table>\n",
       "</div>"
      ],
      "text/plain": [
       "                                               input  \\\n",
       "0  મૂળ શબ્દોનો ઉપયોગ કરીને નીચેના વાક્યને ફરીથી લ...   \n",
       "1  બે વાક્યોને એક વાક્યમાં જોડો.\\nતે પાર્ટીમાં ગય...   \n",
       "2  નીચેના વાક્યને બે અલગ-અલગ વાક્યોમાં વિભાજિત કર...   \n",
       "3  નીચેના વાક્યને હકારાત્મક, નકારાત્મક અથવા તટસ્થ...   \n",
       "4  વાક્યમાં કયો શબ્દ સૌથી વધુ વજન ધરાવે છે તે શોધ...   \n",
       "\n",
       "                                              output  language  \n",
       "0                              મને સારું નથી લાગતું.  gujarati  \n",
       "1  તે પાર્ટીમાં ગયો ન હતો, તેના બદલે ઘરે જ રહ્યો ...  gujarati  \n",
       "2                                 તેણે હેલો કહ્યું.   gujarati  \n",
       "3                                         હકારાત્મક.  gujarati  \n",
       "4                                        રાત્રિભોજન.  gujarati  "
      ]
     },
     "execution_count": 84,
     "metadata": {},
     "output_type": "execute_result"
    }
   ],
   "source": [
    "df.head()"
   ]
  },
  {
   "cell_type": "code",
   "execution_count": 85,
   "metadata": {},
   "outputs": [],
   "source": [
    "df.to_csv(f\"{output_location}/alpaca_gujarati)all.csv\",index=None)"
   ]
  },
  {
   "cell_type": "code",
   "execution_count": 86,
   "metadata": {},
   "outputs": [
    {
     "name": "stderr",
     "output_type": "stream",
     "text": [
      "Downloading readme: 100%|██████████| 13.3k/13.3k [00:00<00:00, 11.8MB/s]\n",
      "Downloading data: 100%|██████████| 137M/137M [00:16<00:00, 8.09MB/s]\n",
      "Downloading data: 100%|██████████| 978k/978k [00:00<00:00, 2.36MB/s]]\n",
      "Downloading data files: 100%|██████████| 2/2 [00:17<00:00,  8.77s/it]\n",
      "Extracting data files: 100%|██████████| 2/2 [00:00<00:00, 539.32it/s]\n",
      "Generating train split: 100%|██████████| 202364/202364 [00:00<00:00, 787001.26 examples/s]\n",
      "Generating test split: 100%|██████████| 1750/1750 [00:00<00:00, 618994.10 examples/s]\n"
     ]
    }
   ],
   "source": [
    "dataset =load_dataset(\"CohereForAI/aya_dataset\")"
   ]
  },
  {
   "cell_type": "code",
   "execution_count": 102,
   "metadata": {},
   "outputs": [
    {
     "data": {
      "text/html": [
       "<div>\n",
       "<style scoped>\n",
       "    .dataframe tbody tr th:only-of-type {\n",
       "        vertical-align: middle;\n",
       "    }\n",
       "\n",
       "    .dataframe tbody tr th {\n",
       "        vertical-align: top;\n",
       "    }\n",
       "\n",
       "    .dataframe thead th {\n",
       "        text-align: right;\n",
       "    }\n",
       "</style>\n",
       "<table border=\"1\" class=\"dataframe\">\n",
       "  <thead>\n",
       "    <tr style=\"text-align: right;\">\n",
       "      <th></th>\n",
       "      <th>inputs</th>\n",
       "      <th>targets</th>\n",
       "      <th>language</th>\n",
       "      <th>language_code</th>\n",
       "      <th>annotation_type</th>\n",
       "      <th>user_id</th>\n",
       "    </tr>\n",
       "  </thead>\n",
       "  <tbody>\n",
       "    <tr>\n",
       "      <th>0</th>\n",
       "      <td>Heestan waxaa qada Khalid Haref Ahmed \\nOO ku ...</td>\n",
       "      <td>Habeen ma hurdoo\\nAday horjoogoo\\nDharaar ma h...</td>\n",
       "      <td>Somali</td>\n",
       "      <td>som</td>\n",
       "      <td>original-annotations</td>\n",
       "      <td>f0ff69570af705b75c5a0851883e502feab2bc874c5e98...</td>\n",
       "    </tr>\n",
       "    <tr>\n",
       "      <th>1</th>\n",
       "      <td>Quels président des États-Unis ne s’est jamais...</td>\n",
       "      <td>James Buchanan est le seul président qui ne s'...</td>\n",
       "      <td>French</td>\n",
       "      <td>fra</td>\n",
       "      <td>re-annotations</td>\n",
       "      <td>5bd125e28d277d4fbc168f7accbcd05477951aea60008b...</td>\n",
       "    </tr>\n",
       "    <tr>\n",
       "      <th>2</th>\n",
       "      <td>كم عدد الخلفاء الراشدين ؟ أجب على السؤال السابق.</td>\n",
       "      <td>الإجابة هي: 4 خلفاء هم: أبوبكر الصديق، عمر بن ...</td>\n",
       "      <td>Standard Arabic</td>\n",
       "      <td>arb</td>\n",
       "      <td>original-annotations</td>\n",
       "      <td>13c05f2d3912479e80ce8aea399db395ce766b841c936c...</td>\n",
       "    </tr>\n",
       "    <tr>\n",
       "      <th>3</th>\n",
       "      <td>கேள்வி: \\nகீழ்க்காணும்  புதிருக்கான விடையை கண்...</td>\n",
       "      <td>பதில்: \\nபடகு</td>\n",
       "      <td>Tamil</td>\n",
       "      <td>tam</td>\n",
       "      <td>re-annotations</td>\n",
       "      <td>91d8bea5f24cef25452aa5bca663c116e59d8265478b9a...</td>\n",
       "    </tr>\n",
       "    <tr>\n",
       "      <th>4</th>\n",
       "      <td>බුදු දහමේ එන  රසය ගැන විස්තර කරන්න.</td>\n",
       "      <td>ජිහ්වා ප්‍ර‍සාදය නිසා එහි උපදනා විඥානයට දැනෙන්...</td>\n",
       "      <td>Sinhala</td>\n",
       "      <td>sin</td>\n",
       "      <td>original-annotations</td>\n",
       "      <td>29f22cf193a81e1a5c47d76af453a91b3cd19aa348995c...</td>\n",
       "    </tr>\n",
       "  </tbody>\n",
       "</table>\n",
       "</div>"
      ],
      "text/plain": [
       "                                              inputs  \\\n",
       "0  Heestan waxaa qada Khalid Haref Ahmed \\nOO ku ...   \n",
       "1  Quels président des États-Unis ne s’est jamais...   \n",
       "2   كم عدد الخلفاء الراشدين ؟ أجب على السؤال السابق.   \n",
       "3  கேள்வி: \\nகீழ்க்காணும்  புதிருக்கான விடையை கண்...   \n",
       "4                බුදු දහමේ එන  රසය ගැන විස්තර කරන්න.   \n",
       "\n",
       "                                             targets         language  \\\n",
       "0  Habeen ma hurdoo\\nAday horjoogoo\\nDharaar ma h...           Somali   \n",
       "1  James Buchanan est le seul président qui ne s'...           French   \n",
       "2  الإجابة هي: 4 خلفاء هم: أبوبكر الصديق، عمر بن ...  Standard Arabic   \n",
       "3                                      பதில்: \\nபடகு            Tamil   \n",
       "4  ජිහ්වා ප්‍ර‍සාදය නිසා එහි උපදනා විඥානයට දැනෙන්...          Sinhala   \n",
       "\n",
       "  language_code       annotation_type  \\\n",
       "0           som  original-annotations   \n",
       "1           fra        re-annotations   \n",
       "2           arb  original-annotations   \n",
       "3           tam        re-annotations   \n",
       "4           sin  original-annotations   \n",
       "\n",
       "                                             user_id  \n",
       "0  f0ff69570af705b75c5a0851883e502feab2bc874c5e98...  \n",
       "1  5bd125e28d277d4fbc168f7accbcd05477951aea60008b...  \n",
       "2  13c05f2d3912479e80ce8aea399db395ce766b841c936c...  \n",
       "3  91d8bea5f24cef25452aa5bca663c116e59d8265478b9a...  \n",
       "4  29f22cf193a81e1a5c47d76af453a91b3cd19aa348995c...  "
      ]
     },
     "execution_count": 102,
     "metadata": {},
     "output_type": "execute_result"
    }
   ],
   "source": [
    "df = pd.concat([dataset['train'].to_pandas(),dataset['test'].to_pandas()])\n",
    "df.head()"
   ]
  },
  {
   "cell_type": "code",
   "execution_count": 103,
   "metadata": {},
   "outputs": [
    {
     "data": {
      "text/plain": [
       "array(['Somali', 'French', 'Standard Arabic', 'Tamil', 'Sinhala',\n",
       "       'Yoruba', 'Telugu', 'Sundanese', 'Italian', 'Spanish',\n",
       "       'Portuguese', 'Vietnamese', 'Urdu', 'Marathi',\n",
       "       'Modern Greek (1453-)', 'Dutch', 'Gujarati', 'Standard Malay',\n",
       "       'Moroccan Arabic', 'Amharic', 'Turkish', 'Simplified Chinese',\n",
       "       'Malayalam', 'Plateau Malagasy', 'Wolof', 'Hausa', 'Indonesian',\n",
       "       'Panjabi', 'Kyrgyz', 'Nyanja', 'Nepali (individual language)',\n",
       "       'Japanese', 'Ukrainian', 'Southern Pashto', 'English',\n",
       "       'Najdi Arabic', 'Shona', 'Cebuano', 'German', 'Zulu', 'Polish',\n",
       "       'Swahili (individual language)', 'Iranian Persian', 'Lithuanian',\n",
       "       'Thai', 'Bengali', 'Filipino', 'Basque', 'Burmese', 'Igbo',\n",
       "       'Danish', 'Russian', 'Hindi', 'Tosk Albanian', 'Kannada',\n",
       "       'Traditional Chinese', 'Swedish', 'Haitian', 'Irish', 'Javanese',\n",
       "       'Finnish', 'Korean', \"Ta'izzi-Adeni Arabic\", 'Sindhi',\n",
       "       'Egyptian Arabic', 'Hungarian', 'Xhosa', 'Central Kurdish',\n",
       "       'Northern Sotho', 'Serbian', 'South Levantine Arabic'],\n",
       "      dtype=object)"
      ]
     },
     "execution_count": 103,
     "metadata": {},
     "output_type": "execute_result"
    }
   ],
   "source": [
    "df['language'].unique()"
   ]
  },
  {
   "cell_type": "code",
   "execution_count": 104,
   "metadata": {},
   "outputs": [],
   "source": [
    "selected_language=['Gujarati','Hindi']\n",
    "df = df[df['language'].isin(selected_language)]"
   ]
  },
  {
   "cell_type": "code",
   "execution_count": 105,
   "metadata": {},
   "outputs": [],
   "source": [
    "df = df.rename(columns={'inputs':\"input\",\n",
    "                   'targets':\"output\",\n",
    "                   'user_id':'conversation_id'})\n",
    "df = df[req_cols+['conversation_id']]"
   ]
  },
  {
   "cell_type": "code",
   "execution_count": 107,
   "metadata": {},
   "outputs": [],
   "source": [
    "df.to_csv(f\"{output_location}aya_guj_hindi.csv\",index=None)"
   ]
  },
  {
   "cell_type": "code",
   "execution_count": 108,
   "metadata": {},
   "outputs": [
    {
     "name": "stderr",
     "output_type": "stream",
     "text": [
      "Downloading readme: 100%|██████████| 1.63k/1.63k [00:00<00:00, 12.5MB/s]\n",
      "Downloading data: 100%|██████████| 290k/290k [00:00<00:00, 502kB/s]\n",
      "Downloading data files: 100%|██████████| 1/1 [00:00<00:00,  1.48it/s]\n",
      "Extracting data files: 100%|██████████| 1/1 [00:00<00:00, 963.10it/s]\n",
      "Generating train split: 100%|██████████| 1156/1156 [00:00<00:00, 235095.78 examples/s]\n"
     ]
    },
    {
     "data": {
      "text/html": [
       "<div>\n",
       "<style scoped>\n",
       "    .dataframe tbody tr th:only-of-type {\n",
       "        vertical-align: middle;\n",
       "    }\n",
       "\n",
       "    .dataframe tbody tr th {\n",
       "        vertical-align: top;\n",
       "    }\n",
       "\n",
       "    .dataframe thead th {\n",
       "        text-align: right;\n",
       "    }\n",
       "</style>\n",
       "<table border=\"1\" class=\"dataframe\">\n",
       "  <thead>\n",
       "    <tr style=\"text-align: right;\">\n",
       "      <th></th>\n",
       "      <th>inputs</th>\n",
       "      <th>targets</th>\n",
       "      <th>template_lang</th>\n",
       "      <th>template_id</th>\n",
       "    </tr>\n",
       "  </thead>\n",
       "  <tbody>\n",
       "    <tr>\n",
       "      <th>0</th>\n",
       "      <td>What's the Gujarati translation of this senten...</td>\n",
       "      <td>\"આ બોટનો સાઉન્ડબાર હજુ પણ તમામ સ્પીકર્સ માટે વ...</td>\n",
       "      <td>['eng']</td>\n",
       "      <td>3</td>\n",
       "    </tr>\n",
       "    <tr>\n",
       "      <th>1</th>\n",
       "      <td>What's the Gujarati translation of this senten...</td>\n",
       "      <td>\"માઇક અને માઇક્રો એસડી કાર્ડ સ્લોટ સાથે ફોલ્ડ ...</td>\n",
       "      <td>['eng']</td>\n",
       "      <td>3</td>\n",
       "    </tr>\n",
       "    <tr>\n",
       "      <th>2</th>\n",
       "      <td>Translate this sentence to Gujarati: \"The rece...</td>\n",
       "      <td>\"વાર્તાઓની તાજેતરમાં ઉમેરવામાં આવેલી વિશેષતા, ...</td>\n",
       "      <td>['eng']</td>\n",
       "      <td>2</td>\n",
       "    </tr>\n",
       "    <tr>\n",
       "      <th>3</th>\n",
       "      <td>Translate from English to Gujarati: \"Rates are...</td>\n",
       "      <td>\"દરો સ્પર્ધાત્મક હોય છે, લગભગ હંમેશા બજારમાં શ...</td>\n",
       "      <td>['eng']</td>\n",
       "      <td>1</td>\n",
       "    </tr>\n",
       "    <tr>\n",
       "      <th>4</th>\n",
       "      <td>What's the Gujarati translation of this senten...</td>\n",
       "      <td>\"ખૂબ જ મોટું અને કાર્યક્ષમ લાગે છે. પરંતુ આગળન...</td>\n",
       "      <td>['eng']</td>\n",
       "      <td>3</td>\n",
       "    </tr>\n",
       "  </tbody>\n",
       "</table>\n",
       "</div>"
      ],
      "text/plain": [
       "                                              inputs  \\\n",
       "0  What's the Gujarati translation of this senten...   \n",
       "1  What's the Gujarati translation of this senten...   \n",
       "2  Translate this sentence to Gujarati: \"The rece...   \n",
       "3  Translate from English to Gujarati: \"Rates are...   \n",
       "4  What's the Gujarati translation of this senten...   \n",
       "\n",
       "                                             targets template_lang  \\\n",
       "0  \"આ બોટનો સાઉન્ડબાર હજુ પણ તમામ સ્પીકર્સ માટે વ...       ['eng']   \n",
       "1  \"માઇક અને માઇક્રો એસડી કાર્ડ સ્લોટ સાથે ફોલ્ડ ...       ['eng']   \n",
       "2  \"વાર્તાઓની તાજેતરમાં ઉમેરવામાં આવેલી વિશેષતા, ...       ['eng']   \n",
       "3  \"દરો સ્પર્ધાત્મક હોય છે, લગભગ હંમેશા બજારમાં શ...       ['eng']   \n",
       "4  \"ખૂબ જ મોટું અને કાર્યક્ષમ લાગે છે. પરંતુ આગળન...       ['eng']   \n",
       "\n",
       "   template_id  \n",
       "0            3  \n",
       "1            3  \n",
       "2            2  \n",
       "3            1  \n",
       "4            3  "
      ]
     },
     "execution_count": 108,
     "metadata": {},
     "output_type": "execute_result"
    }
   ],
   "source": [
    "dataset = load_dataset(\"el2e10/aya-indicsentiment-gujarati\")\n",
    "df = dataset['train'].to_pandas()\n",
    "df.head()"
   ]
  },
  {
   "cell_type": "code",
   "execution_count": 109,
   "metadata": {},
   "outputs": [],
   "source": [
    "df = df.rename(columns={'inputs':'input','targets':'output'})"
   ]
  },
  {
   "cell_type": "code",
   "execution_count": 110,
   "metadata": {},
   "outputs": [],
   "source": [
    "df['language']='gujarati'\n",
    "df = df[req_cols]\n",
    "df.to_csv(f\"{output_location}aya_indicsentiment_gujarati.csv\",index=None)"
   ]
  },
  {
   "cell_type": "code",
   "execution_count": 111,
   "metadata": {},
   "outputs": [
    {
     "name": "stderr",
     "output_type": "stream",
     "text": [
      "Downloading readme: 100%|██████████| 2.07k/2.07k [00:00<00:00, 8.26MB/s]\n",
      "Downloading data: 100%|██████████| 227k/227k [00:00<00:00, 592kB/s]\n",
      "Downloading data files: 100%|██████████| 1/1 [00:00<00:00,  2.39it/s]\n",
      "Extracting data files: 100%|██████████| 1/1 [00:00<00:00, 1070.79it/s]\n",
      "Generating train split: 100%|██████████| 1001/1001 [00:00<00:00, 179969.06 examples/s]\n"
     ]
    },
    {
     "data": {
      "text/html": [
       "<div>\n",
       "<style scoped>\n",
       "    .dataframe tbody tr th:only-of-type {\n",
       "        vertical-align: middle;\n",
       "    }\n",
       "\n",
       "    .dataframe tbody tr th {\n",
       "        vertical-align: top;\n",
       "    }\n",
       "\n",
       "    .dataframe thead th {\n",
       "        text-align: right;\n",
       "    }\n",
       "</style>\n",
       "<table border=\"1\" class=\"dataframe\">\n",
       "  <thead>\n",
       "    <tr style=\"text-align: right;\">\n",
       "      <th></th>\n",
       "      <th>inputs</th>\n",
       "      <th>targets</th>\n",
       "      <th>template_lang</th>\n",
       "      <th>template_id</th>\n",
       "    </tr>\n",
       "  </thead>\n",
       "  <tbody>\n",
       "    <tr>\n",
       "      <th>0</th>\n",
       "      <td>નીચેના વાક્યને બીજા સ્વરૂપમાં ફરીથી લખો: \"ઘટના...</td>\n",
       "      <td>\"પોલીસ ત્યારે ઘટના સ્થળે પહોંચી હતી જ્યારે ઘટન...</td>\n",
       "      <td>['guj']</td>\n",
       "      <td>3</td>\n",
       "    </tr>\n",
       "    <tr>\n",
       "      <th>1</th>\n",
       "      <td>નીચેના વાક્યને અલગ રીતે ફરીથી લખો: \"આ ફિલ્મ મા...</td>\n",
       "      <td>\"તેમને આ ફિલ્મ માટે ફિલ્મફેરનો બેસ્ટ સપોર્ટિંગ...</td>\n",
       "      <td>['guj']</td>\n",
       "      <td>2</td>\n",
       "    </tr>\n",
       "    <tr>\n",
       "      <th>2</th>\n",
       "      <td>નીચેના વાક્યને અલગ શબ્દોનો ઉપયોગ કરીને લખો: \"ચ...</td>\n",
       "      <td>\"ચંદીગઢ: પંજાબી સાહિત્યકાર જસવંત સિંગ કાનવાલનુ...</td>\n",
       "      <td>['guj']</td>\n",
       "      <td>1</td>\n",
       "    </tr>\n",
       "    <tr>\n",
       "      <th>3</th>\n",
       "      <td>નીચેના વાક્યને અલગ શબ્દોનો ઉપયોગ કરીને લખો: \"શ...</td>\n",
       "      <td>\"રાજ્યના મુખ્યમંત્રી ઉદ્ધવ ઠાકરે છે જે શિવ સેન...</td>\n",
       "      <td>['guj']</td>\n",
       "      <td>1</td>\n",
       "    </tr>\n",
       "    <tr>\n",
       "      <th>4</th>\n",
       "      <td>નીચેના વાક્યને અલગ શબ્દોનો ઉપયોગ કરીને લખો: \"એ...</td>\n",
       "      <td>\"આ સ્પર્ધામાં એસ.એસ.એલ.સી., પી.યુ., આઇ.ટી.આઇ.,...</td>\n",
       "      <td>['guj']</td>\n",
       "      <td>1</td>\n",
       "    </tr>\n",
       "  </tbody>\n",
       "</table>\n",
       "</div>"
      ],
      "text/plain": [
       "                                              inputs  \\\n",
       "0  નીચેના વાક્યને બીજા સ્વરૂપમાં ફરીથી લખો: \"ઘટના...   \n",
       "1  નીચેના વાક્યને અલગ રીતે ફરીથી લખો: \"આ ફિલ્મ મા...   \n",
       "2  નીચેના વાક્યને અલગ શબ્દોનો ઉપયોગ કરીને લખો: \"ચ...   \n",
       "3  નીચેના વાક્યને અલગ શબ્દોનો ઉપયોગ કરીને લખો: \"શ...   \n",
       "4  નીચેના વાક્યને અલગ શબ્દોનો ઉપયોગ કરીને લખો: \"એ...   \n",
       "\n",
       "                                             targets template_lang  \\\n",
       "0  \"પોલીસ ત્યારે ઘટના સ્થળે પહોંચી હતી જ્યારે ઘટન...       ['guj']   \n",
       "1  \"તેમને આ ફિલ્મ માટે ફિલ્મફેરનો બેસ્ટ સપોર્ટિંગ...       ['guj']   \n",
       "2  \"ચંદીગઢ: પંજાબી સાહિત્યકાર જસવંત સિંગ કાનવાલનુ...       ['guj']   \n",
       "3  \"રાજ્યના મુખ્યમંત્રી ઉદ્ધવ ઠાકરે છે જે શિવ સેન...       ['guj']   \n",
       "4  \"આ સ્પર્ધામાં એસ.એસ.એલ.સી., પી.યુ., આઇ.ટી.આઇ.,...       ['guj']   \n",
       "\n",
       "   template_id  \n",
       "0            3  \n",
       "1            2  \n",
       "2            1  \n",
       "3            1  \n",
       "4            1  "
      ]
     },
     "execution_count": 111,
     "metadata": {},
     "output_type": "execute_result"
    }
   ],
   "source": [
    "dataset = load_dataset(\"el2e10/aya-paraphrase-gujarati\")\n",
    "df = dataset['train'].to_pandas()\n",
    "df.head()"
   ]
  },
  {
   "cell_type": "code",
   "execution_count": 112,
   "metadata": {},
   "outputs": [],
   "source": [
    "df = df.rename(columns={'inputs':'input','targets':'output'})\n",
    "df['language']='gujarati'\n",
    "df = df[req_cols]\n",
    "df.to_csv(f\"{output_location}aya_paraphrase_gujarati.csv\",index=None)"
   ]
  },
  {
   "cell_type": "code",
   "execution_count": null,
   "metadata": {},
   "outputs": [],
   "source": []
  },
  {
   "cell_type": "code",
   "execution_count": null,
   "metadata": {},
   "outputs": [],
   "source": []
  },
  {
   "cell_type": "code",
   "execution_count": null,
   "metadata": {},
   "outputs": [],
   "source": []
  },
  {
   "cell_type": "code",
   "execution_count": null,
   "metadata": {},
   "outputs": [],
   "source": []
  }
 ],
 "metadata": {
  "kernelspec": {
   "display_name": "hf",
   "language": "python",
   "name": "python3"
  },
  "language_info": {
   "codemirror_mode": {
    "name": "ipython",
    "version": 3
   },
   "file_extension": ".py",
   "mimetype": "text/x-python",
   "name": "python",
   "nbconvert_exporter": "python",
   "pygments_lexer": "ipython3",
   "version": "3.10.13"
  }
 },
 "nbformat": 4,
 "nbformat_minor": 2
}
