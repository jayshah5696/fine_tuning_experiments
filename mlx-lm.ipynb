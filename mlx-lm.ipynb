{
 "cells": [
  {
   "cell_type": "code",
   "execution_count": null,
   "metadata": {},
   "outputs": [],
   "source": [
    "from mlx_lm import load, generate\n",
    "\n",
    "model, tokenizer = load(\"mlx-community/quantized-gemma-2b-it\")\n",
    "response = generate(model, tokenizer, prompt=\"hello\", verbose=True)\n"
   ]
  },
  {
   "cell_type": "code",
   "execution_count": null,
   "metadata": {},
   "outputs": [],
   "source": [
    "python lora.py \\\n",
    "  --train \\\n",
    "  --model mlx-community/quantized-gemma-2b-it \\\n",
    "  --data ~/Documents/GitHub/fine_tuning/ \\\n",
    "  --batch-size 2 \\\n",
    "  --lora-layers 8 \\\n",
    "  --iters 100"
   ]
  },
  {
   "cell_type": "code",
   "execution_count": null,
   "metadata": {},
   "outputs": [],
   "source": [
    "/Users/jshah/Documents/GitHub/fine_tuning/valid.jsonl"
   ]
  },
  {
   "cell_type": "code",
   "execution_count": 4,
   "metadata": {},
   "outputs": [
    {
     "name": "stdout",
     "output_type": "stream",
     "text": [
      "Requirement already satisfied: mlx-lm in /Users/jshah/anaconda3/envs/mlx/lib/python3.11/site-packages (0.0.13)\n",
      "Requirement already satisfied: mlx>=0.1 in /Users/jshah/anaconda3/envs/mlx/lib/python3.11/site-packages (from mlx-lm) (0.4.0)\n",
      "Requirement already satisfied: numpy in /Users/jshah/anaconda3/envs/mlx/lib/python3.11/site-packages (from mlx-lm) (1.26.4)\n",
      "Requirement already satisfied: transformers>=4.38.0 in /Users/jshah/anaconda3/envs/mlx/lib/python3.11/site-packages (from mlx-lm) (4.38.1)\n",
      "Requirement already satisfied: protobuf in /Users/jshah/anaconda3/envs/mlx/lib/python3.11/site-packages (from mlx-lm) (4.25.3)\n",
      "Requirement already satisfied: pyyaml in /Users/jshah/anaconda3/envs/mlx/lib/python3.11/site-packages (from mlx-lm) (6.0.1)\n",
      "Requirement already satisfied: filelock in /Users/jshah/anaconda3/envs/mlx/lib/python3.11/site-packages (from transformers>=4.38.0->mlx-lm) (3.13.1)\n",
      "Requirement already satisfied: huggingface-hub<1.0,>=0.19.3 in /Users/jshah/anaconda3/envs/mlx/lib/python3.11/site-packages (from transformers>=4.38.0->mlx-lm) (0.20.3)\n",
      "Requirement already satisfied: packaging>=20.0 in /Users/jshah/anaconda3/envs/mlx/lib/python3.11/site-packages (from transformers>=4.38.0->mlx-lm) (23.2)\n",
      "Requirement already satisfied: regex!=2019.12.17 in /Users/jshah/anaconda3/envs/mlx/lib/python3.11/site-packages (from transformers>=4.38.0->mlx-lm) (2023.12.25)\n",
      "Requirement already satisfied: requests in /Users/jshah/anaconda3/envs/mlx/lib/python3.11/site-packages (from transformers>=4.38.0->mlx-lm) (2.31.0)\n",
      "Requirement already satisfied: tokenizers<0.19,>=0.14 in /Users/jshah/anaconda3/envs/mlx/lib/python3.11/site-packages (from transformers>=4.38.0->mlx-lm) (0.15.2)\n",
      "Requirement already satisfied: safetensors>=0.4.1 in /Users/jshah/anaconda3/envs/mlx/lib/python3.11/site-packages (from transformers>=4.38.0->mlx-lm) (0.4.2)\n",
      "Requirement already satisfied: tqdm>=4.27 in /Users/jshah/anaconda3/envs/mlx/lib/python3.11/site-packages (from transformers>=4.38.0->mlx-lm) (4.66.2)\n",
      "Requirement already satisfied: fsspec>=2023.5.0 in /Users/jshah/anaconda3/envs/mlx/lib/python3.11/site-packages (from huggingface-hub<1.0,>=0.19.3->transformers>=4.38.0->mlx-lm) (2024.2.0)\n",
      "Requirement already satisfied: typing-extensions>=3.7.4.3 in /Users/jshah/anaconda3/envs/mlx/lib/python3.11/site-packages (from huggingface-hub<1.0,>=0.19.3->transformers>=4.38.0->mlx-lm) (4.9.0)\n",
      "Requirement already satisfied: charset-normalizer<4,>=2 in /Users/jshah/anaconda3/envs/mlx/lib/python3.11/site-packages (from requests->transformers>=4.38.0->mlx-lm) (3.3.2)\n",
      "Requirement already satisfied: idna<4,>=2.5 in /Users/jshah/anaconda3/envs/mlx/lib/python3.11/site-packages (from requests->transformers>=4.38.0->mlx-lm) (3.6)\n",
      "Requirement already satisfied: urllib3<3,>=1.21.1 in /Users/jshah/anaconda3/envs/mlx/lib/python3.11/site-packages (from requests->transformers>=4.38.0->mlx-lm) (2.2.1)\n",
      "Requirement already satisfied: certifi>=2017.4.17 in /Users/jshah/anaconda3/envs/mlx/lib/python3.11/site-packages (from requests->transformers>=4.38.0->mlx-lm) (2024.2.2)\n"
     ]
    }
   ],
   "source": [
    "!pip install mlx-lm"
   ]
  },
  {
   "cell_type": "code",
   "execution_count": 6,
   "metadata": {},
   "outputs": [
    {
     "ename": "ModuleNotFoundError",
     "evalue": "No module named 'mlx_lm.model'",
     "output_type": "error",
     "traceback": [
      "\u001b[0;31m---------------------------------------------------------------------------\u001b[0m",
      "\u001b[0;31mModuleNotFoundError\u001b[0m                       Traceback (most recent call last)",
      "Cell \u001b[0;32mIn[6], line 1\u001b[0m\n\u001b[0;32m----> 1\u001b[0m \u001b[38;5;28;01mfrom\u001b[39;00m \u001b[38;5;21;01mmlx_lm\u001b[39;00m\u001b[38;5;21;01m.\u001b[39;00m\u001b[38;5;21;01mmodel\u001b[39;00m \u001b[38;5;28;01mimport\u001b[39;00m list_models\n\u001b[1;32m      3\u001b[0m \u001b[38;5;28mprint\u001b[39m(list_models())\n",
      "\u001b[0;31mModuleNotFoundError\u001b[0m: No module named 'mlx_lm.model'"
     ]
    }
   ],
   "source": [
    "\n",
    "from mlx_lm.model import list_models\n",
    "\n",
    "print(list_models())\n"
   ]
  },
  {
   "cell_type": "markdown",
   "metadata": {},
   "source": [
    "python -m mlx_lm.lora \\\n",
    "  --train \\\n",
    "  --model mlx-community/quantized-gemma-2b-it \\\n",
    "  --data ~/Documents/GitHub/fine_tuning/ \\\n",
    "  --batch-size 2 \\\n",
    "  --lora-layers 8 \\\n",
    "  --iters 1000 \\\n",
    "  --val-batches -1 \\\n",
    "  --learning-rate 0.0005 \\\n",
    "  --max-seq-length 4096 \\\n",
    "  --seed 108 \\\n",
    "  --steps-per-report 1 \\\n",
    "  --adapter-file ~/Documents/Github/mlx-examples/lora/adapters.npz"
   ]
  },
  {
   "cell_type": "code",
   "execution_count": null,
   "metadata": {},
   "outputs": [],
   "source": [
    "python -m mlx_lm.lora \\\n",
    "  --train \\\n",
    "  --model mlx-community/quantized-gemma-2b-it \\\n",
    "  --data ~/Documents/GitHub/fine_tuning/ \\\n",
    "  --batch-size 2 \\\n",
    "  --lora-layers 8 \\\n",
    "  --iters 100 \\\n",
    "  --val-batches -1 \\\n",
    "  --max-seq-length 4096 \\\n",
    "  --seed 108 \\\n",
    "  --steps-per-report 1 \\"
   ]
  }
 ],
 "metadata": {
  "kernelspec": {
   "display_name": "base",
   "language": "python",
   "name": "python3"
  },
  "language_info": {
   "codemirror_mode": {
    "name": "ipython",
    "version": 3
   },
   "file_extension": ".py",
   "mimetype": "text/x-python",
   "name": "python",
   "nbconvert_exporter": "python",
   "pygments_lexer": "ipython3",
   "version": "3.11.7"
  }
 },
 "nbformat": 4,
 "nbformat_minor": 2
}
